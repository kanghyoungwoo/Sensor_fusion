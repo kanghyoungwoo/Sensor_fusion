{
  "cells": [
    {
      "attachments": {},
      "cell_type": "markdown",
      "metadata": {},
      "source": [
        "## load file path"
      ]
    },
    {
      "cell_type": "code",
      "execution_count": 4,
      "metadata": {
        "id": "qP3-j5OAKhT2"
      },
      "outputs": [],
      "source": [
        "import glob\n",
        "\n",
        "image_files = sorted(glob.glob(\"data/img/*.png\"))\n",
        "point_files = sorted(glob.glob(\"data/velodyne/*.bin\"))\n",
        "label_files = sorted(glob.glob(\"data/label/*.txt\"))\n",
        "calib_files = sorted(glob.glob(\"data/calib/*.txt\"))"
      ]
    },
    {
      "attachments": {},
      "cell_type": "markdown",
      "metadata": {},
      "source": [
        "## Velodyne bin to pcd format"
      ]
    },
    {
      "cell_type": "code",
      "execution_count": 8,
      "metadata": {
        "id": "Zq7lPkvYPXow"
      },
      "outputs": [
        {
          "name": "stderr",
          "output_type": "stream",
          "text": [
            "3it [00:00,  3.31it/s]\n"
          ]
        }
      ],
      "source": [
        "## BIN TO PCD\n",
        "import numpy as np\n",
        "from tqdm import tqdm\n",
        "import struct\n",
        "import open3d as o3d\n",
        "\n",
        "size_float = 4\n",
        "list_pcd = []\n",
        "\n",
        "for index, point in tqdm(enumerate(point_files)):\n",
        "    list_pcd = []\n",
        "    file_to_open = point_files[index]\n",
        "    file_to_save = str(point_files[index])[:-3]+\"pcd\"\n",
        "    with open (file_to_open, \"rb\") as f:\n",
        "        byte = f.read(size_float*4)\n",
        "        while byte:\n",
        "            x,y,z,intensity = struct.unpack(\"ffff\", byte)\n",
        "            list_pcd.append([x, y, z])\n",
        "            byte = f.read(size_float*4)\n",
        "    np_pcd = np.asarray(list_pcd)\n",
        "    pcd = o3d.geometry.PointCloud()\n",
        "    v3d = o3d.utility.Vector3dVector\n",
        "    pcd.points = v3d(np_pcd)\n",
        "\n",
        "    o3d.io.write_point_cloud(file_to_save, pcd)\n"
      ]
    }
  ],
  "metadata": {
    "colab": {
      "collapsed_sections": [
        "1rbhQKptg-uK",
        "WmYX4Iex6JzH"
      ],
      "name": "Copy of Visual Fusion Early.ipynb",
      "private_outputs": true,
      "provenance": []
    },
    "kernelspec": {
      "display_name": "Python 3",
      "name": "python3"
    },
    "language_info": {
      "codemirror_mode": {
        "name": "ipython",
        "version": 3
      },
      "file_extension": ".py",
      "mimetype": "text/x-python",
      "name": "python",
      "nbconvert_exporter": "python",
      "pygments_lexer": "ipython3",
      "version": "3.7.13"
    }
  },
  "nbformat": 4,
  "nbformat_minor": 0
}

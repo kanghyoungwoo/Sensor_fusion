{
  "cells": [
    {
      "cell_type": "code",
      "execution_count": 2,
      "metadata": {
        "id": "BC_e1h8MICKX"
      },
      "outputs": [],
      "source": [
        "import numpy as np\n",
        "import cv2\n",
        "import matplotlib.pyplot as plt\n",
        "import matplotlib.image as mpimg\n",
        "from IPython.display import Image\n",
        "import glob\n",
        "import open3d as o3d\n",
        "from open3d.open3d.geometry import voxel_down_sample\n"
      ]
    },
    {
      "cell_type": "code",
      "execution_count": 3,
      "metadata": {
        "id": "qP3-j5OAKhT2"
      },
      "outputs": [],
      "source": [
        "image_files = sorted(glob.glob(\"data/img/*.png\"))\n",
        "point_files = sorted(glob.glob(\"data/velodyne/*.pcd\"))\n",
        "label_files = sorted(glob.glob(\"data/label/*.txt\"))\n",
        "calib_files = sorted(glob.glob(\"data/calib/*.txt\"))"
      ]
    },
    {
      "cell_type": "code",
      "execution_count": 4,
      "metadata": {},
      "outputs": [],
      "source": [
        "image_files = sorted(glob.glob(\"data\\\\data_train\\\\img\\\\*.png\"))\n",
        "point_files = sorted(glob.glob(\"data\\\\data_train\\\\velodyne_pcd\\\\*.pcd\"))\n",
        "label_files = sorted(glob.glob(\"data\\\\data_train\\\\label\\\\*.txt\"))\n",
        "calib_files = sorted(glob.glob(\"data\\\\data_train\\\\calib\\\\*.txt\"))"
      ]
    },
    {
      "cell_type": "code",
      "execution_count": 5,
      "metadata": {
        "id": "fSzz_3tf0xlX"
      },
      "outputs": [],
      "source": [
        "class LiDAR2Camera(object):\n",
        "    def __init__(self, calib_file):\n",
        "        calibs = self.read_calib_file(calib_file)\n",
        "        P = calibs[\"P2\"]\n",
        "        self.P = np.reshape(P, [3, 4])\n",
        "        V2C = calibs[\"Tr_velo_cam\"]\n",
        "        self.V2C = np.reshape(V2C, [3, 4])\n",
        "        R0 = calibs[\"R_rect\"]\n",
        "        self.R0 = np.reshape(R0, [3, 3])\n",
        "\n",
        "    def read_calib_file(self, filepath):\n",
        "        data = {}\n",
        "        with open(filepath, \"r\") as f:\n",
        "            for line in f.readlines():\n",
        "                line = line.rstrip()\n",
        "                if len(line) == 0:\n",
        "                    continue\n",
        "                key, value = line.split(\":\", 1)\n",
        "                try:\n",
        "                    data[key] = np.array([float(x) for x in value.split()])\n",
        "                except ValueError:\n",
        "                    pass\n",
        "        return data\n",
        "    \n",
        "    def cart2hom(self, pts_3d):\n",
        "        n = pts_3d.shape[0]\n",
        "        pts_3d_hom = np.hstack((pts_3d, np.ones((n, 1))))\n",
        "        return pts_3d_hom\n",
        "    \n",
        "    def project_velo_to_image(self, pts_3d_velo):\n",
        "        R0_homo = np.vstack([self.R0, [0, 0, 0]])\n",
        "        R0_homo_2 = np.column_stack([R0_homo, [0, 0, 0, 1]])\n",
        "        p_r0 = np.dot(self.P, R0_homo_2) #PxR0\n",
        "        p_r0_rt =  np.dot(p_r0, np.vstack((self.V2C, [0, 0, 0, 1]))) #PxROxRT\n",
        "        pts_3d_homo = np.column_stack([pts_3d_velo, np.ones((pts_3d_velo.shape[0],1))])\n",
        "        p_r0_rt_x = np.dot(p_r0_rt, np.transpose(pts_3d_homo))#PxROxRTxX\n",
        "        pts_2d = np.transpose(p_r0_rt_x)\n",
        "        \n",
        "        pts_2d[:, 0] /= pts_2d[:, 2]\n",
        "        pts_2d[:, 1] /= pts_2d[:, 2]\n",
        "        return pts_2d[:, 0:2]\n",
        "        \n",
        "    def get_lidar_in_image_fov(self,pc_velo, xmin, ymin, xmax, ymax, return_more=False, clip_distance=2.0):\n",
        "        pts_2d = self.project_velo_to_image(pc_velo)\n",
        "        fov_inds = (\n",
        "            (pts_2d[:, 0] < xmax)\n",
        "            & (pts_2d[:, 0] >= xmin)\n",
        "            & (pts_2d[:, 1] < ymax)\n",
        "            & (pts_2d[:, 1] >= ymin)\n",
        "        )\n",
        "        fov_inds = fov_inds & (pc_velo[:, 0] > clip_distance) # We don't want things that are closer to the clip distance (2m)\n",
        "        imgfov_pc_velo = pc_velo[fov_inds, :]\n",
        "        if return_more:\n",
        "            return imgfov_pc_velo, pts_2d, fov_inds\n",
        "        else:\n",
        "            return imgfov_pc_velo\n",
        "        \n",
        "    def show_lidar_on_image(self, pc_velo, img, debug=\"False\"):\n",
        "        imgfov_pc_velo, pts_2d, fov_inds = self.get_lidar_in_image_fov(\n",
        "            pc_velo, 0, 0, img.shape[1], img.shape[0], True\n",
        "        )\n",
        "        self.imgfov_pts_2d = pts_2d[fov_inds, :]\n",
        "\n",
        "        cmap = plt.cm.get_cmap(\"hsv\", 256)\n",
        "        cmap = np.array([cmap(i) for i in range(256)])[:, :3] * 255\n",
        "        self.imgfov_pc_velo = imgfov_pc_velo\n",
        "        \n",
        "        for i in range(self.imgfov_pts_2d.shape[0]):\n",
        "            depth = imgfov_pc_velo[i,0]\n",
        "            color = cmap[int(510.0 / depth), :]\n",
        "            cv2.circle(\n",
        "                img,(int(np.round(self.imgfov_pts_2d[i, 0])), int(np.round(self.imgfov_pts_2d[i, 1]))),2,\n",
        "                color=tuple(color),\n",
        "                thickness=-1,\n",
        "            )\n",
        "        return img\n",
        "\n",
        "    def pipeline_lidar (self, image, point_cloud):\n",
        "        img = image.copy()\n",
        "        lidar_img = self.show_lidar_on_image(point_cloud[:,:3], image)\n",
        "        return lidar_img\n",
        "        "
      ]
    },
    {
      "attachments": {},
      "cell_type": "markdown",
      "metadata": {},
      "source": [
        "## original"
      ]
    },
    {
      "cell_type": "code",
      "execution_count": null,
      "metadata": {},
      "outputs": [],
      "source": [
        "image_files = sorted(glob.glob(\"data\\\\data_train\\\\img\\\\*.png\"))\n",
        "point_files = sorted(glob.glob(\"data\\\\data_train\\\\velodyne_pcd\\\\*.pcd\"))\n",
        "label_files = sorted(glob.glob(\"data\\\\data_train\\\\label\\\\*.txt\"))\n",
        "calib_files = sorted(glob.glob(\"data\\\\data_train\\\\calib\\\\*.txt\"))"
      ]
    },
    {
      "cell_type": "code",
      "execution_count": null,
      "metadata": {},
      "outputs": [],
      "source": [
        "# --for linux--\n",
        "# lidar_images = sorted(glob.glob(\"data/img/*.png\"))\n",
        "# lidar_points = sorted(glob.glob(\"data/velodyne/*.pcd\"))\n",
        "# calib_files = sorted(glob.glob(\"data/calib/*.txt\"))\n",
        "\n",
        "# --for window--\n",
        "lidar_images = sorted(glob.glob(\"data\\\\data_train\\\\img\\\\*.png\"))\n",
        "lidar_points = sorted(glob.glob(\"data\\\\data_train\\\\velodyne_pcd\\\\*.pcd\"))\n",
        "calib_files = sorted(glob.glob(\"data\\\\data_train\\\\calib\\\\*.txt\"))\n",
        "\n",
        "lidar2cam_video = LiDAR2Camera(calib_files[0])\n",
        "\n",
        "result_lidar_video = []\n",
        "\n",
        "for idx, img in enumerate(lidar_images):\n",
        "    img = cv2.cvtColor(cv2.imread(img), cv2.COLOR_BGR2RGB)\n",
        "    point_cloud = np.asarray(o3d.io.read_point_cloud(lidar_points[idx]).points)\n",
        "    result_lidar_video.append(lidar2cam_video.pipeline_lidar(img, point_cloud))\n",
        "    cv2.imshow(\"result_lidar_video\", result_lidar_video[idx])\n",
        "    cv2.imshow(\"img\", img)\n",
        "    cv2.waitKey(1)\n",
        "cv2.destroyAllWindows()\n"
      ]
    },
    {
      "attachments": {},
      "cell_type": "markdown",
      "metadata": {},
      "source": [
        "## downsampling"
      ]
    },
    {
      "cell_type": "code",
      "execution_count": null,
      "metadata": {},
      "outputs": [],
      "source": [
        "# --for linux--\n",
        "# lidar_images = sorted(glob.glob(\"data/img/*.png\"))\n",
        "# lidar_points = sorted(glob.glob(\"data/velodyne/*.pcd\"))\n",
        "# calib_files = sorted(glob.glob(\"data/calib/*.txt\"))\n",
        "\n",
        "# --for window--\n",
        "lidar_images = sorted(glob.glob(\"data\\\\data_train\\\\img\\\\*.png\"))\n",
        "lidar_points = sorted(glob.glob(\"data\\\\data_train\\\\velodyne_pcd\\\\*.pcd\"))\n",
        "calib_files = sorted(glob.glob(\"data\\\\data_train\\\\calib\\\\*.txt\"))\n",
        "\n",
        "lidar2cam_video = LiDAR2Camera(calib_files[0])\n",
        "\n",
        "result_lidar_video = []\n",
        "\n",
        "for idx, img in enumerate(lidar_images):\n",
        "    img = cv2.cvtColor(cv2.imread(img), cv2.COLOR_BGR2RGB)\n",
        "    point_cloud = o3d.io.read_point_cloud(lidar_points[idx])\n",
        "    point_cloud = point_cloud.voxel_down_sample(voxel_size=0.1)\n",
        "    \n",
        "    point_cloud = np.asarray(point_cloud.points)\n",
        "    \n",
        "    \n",
        "    result_lidar_video.append(lidar2cam_video.pipeline_lidar(img, point_cloud))\n",
        "    cv2.imshow(\"result_lidar_video\", result_lidar_video[idx])\n",
        "    cv2.waitKey(1)\n",
        "cv2.destroyAllWindows()"
      ]
    },
    {
      "attachments": {},
      "cell_type": "markdown",
      "metadata": {},
      "source": [
        "## ground removal"
      ]
    },
    {
      "cell_type": "code",
      "execution_count": null,
      "metadata": {},
      "outputs": [],
      "source": [
        "# --for linux--\n",
        "# lidar_images = sorted(glob.glob(\"data/img/*.png\"))\n",
        "# lidar_points = sorted(glob.glob(\"data/velodyne/*.pcd\"))\n",
        "# calib_files = sorted(glob.glob(\"data/calib/*.txt\"))\n",
        "\n",
        "# --for window--\n",
        "lidar_images = sorted(glob.glob(\"data\\\\data_train\\\\img\\\\*.png\"))\n",
        "lidar_points = sorted(glob.glob(\"data\\\\data_train\\\\velodyne_pcd\\\\*.pcd\"))\n",
        "calib_files = sorted(glob.glob(\"data\\\\data_train\\\\calib\\\\*.txt\"))\n",
        "\n",
        "lidar2cam_video = LiDAR2Camera(calib_files[0])\n",
        "\n",
        "result_lidar_video = []\n",
        "\n",
        "for idx, img in enumerate(lidar_images):\n",
        "    img = cv2.cvtColor(cv2.imread(img), cv2.COLOR_BGR2RGB)\n",
        "    point_cloud = o3d.io.read_point_cloud(lidar_points[idx])\n",
        "    _, inliers = point_cloud.segment_plane(distance_threshold = 0.23, ransac_n = 8, num_iterations = 500)\n",
        "    \n",
        "    point_cloud.points = o3d.utility.Vector3dVector(np.delete(np.asarray(point_cloud.points), inliers, axis=0))\n",
        "    point_cloud = np.asarray(point_cloud.points)\n",
        "    \n",
        "    \n",
        "    result_lidar_video.append(lidar2cam_video.pipeline_lidar(img, point_cloud))\n",
        "    cv2.imshow(\"result_lidar_video\", result_lidar_video[idx])\n",
        "    cv2.waitKey(1)\n",
        "cv2.destroyAllWindows()"
      ]
    },
    {
      "cell_type": "code",
      "execution_count": null,
      "metadata": {},
      "outputs": [],
      "source": [
        "image = cv2.imread(\"data/img/000000.png\")\n",
        "\n",
        "out = cv2.VideoWriter('output/out_lidar_data_ground_remove.mp4',cv2.VideoWriter_fourcc(*'MP4V'), 15, (image.shape[1],image.shape[0]))\n",
        "for i in range(len(result_lidar_video)):\n",
        "    out.write(cv2.cvtColor(result_lidar_video[i], cv2.COLOR_BGR2RGB))\n",
        "out.release()"
      ]
    },
    {
      "attachments": {},
      "cell_type": "markdown",
      "metadata": {},
      "source": [
        "## remove ground & downsample"
      ]
    },
    {
      "cell_type": "code",
      "execution_count": null,
      "metadata": {},
      "outputs": [],
      "source": [
        "lidar_images = sorted(glob.glob(\"data/img/*.png\"))\n",
        "lidar_points = sorted(glob.glob(\"data/velodyne/*.pcd\"))\n",
        "calib_files = sorted(glob.glob(\"data/calib/*.txt\"))\n",
        "\n",
        "lidar2cam_video = LiDAR2Camera(calib_files[0])\n",
        "\n",
        "result_lidar_video = []\n",
        "\n",
        "for idx, img in enumerate(lidar_images):\n",
        "    img = cv2.cvtColor(cv2.imread(img), cv2.COLOR_BGR2RGB)\n",
        "    point_cloud = o3d.io.read_point_cloud(lidar_points[idx])\n",
        "    point_cloud = point_cloud.voxel_down_sample(voxel_size=0.03)\n",
        "    _, inliers = point_cloud.segment_plane(distance_threshold = 0.23, ransac_n = 8, num_iterations = 500)\n",
        "    \n",
        "    point_cloud.points = o3d.utility.Vector3dVector(np.delete(np.asarray(point_cloud.points), inliers, axis=0))\n",
        "    point_cloud = np.asarray(point_cloud.points)\n",
        "    \n",
        "    \n",
        "    result_lidar_video.append(lidar2cam_video.pipeline_lidar(img, point_cloud))\n",
        "    cv2.imshow(\"result_lidar_video\", result_lidar_video[idx])\n",
        "    cv2.waitKey(1)\n",
        "cv2.destroyAllWindows()"
      ]
    },
    {
      "attachments": {},
      "cell_type": "markdown",
      "metadata": {},
      "source": [
        "## store video"
      ]
    },
    {
      "cell_type": "code",
      "execution_count": null,
      "metadata": {},
      "outputs": [],
      "source": [
        "image = cv2.imread(\"data/img/000000.png\")\n",
        "\n",
        "out = cv2.VideoWriter('output/out_ground_remove_and_downsample.mp4',cv2.VideoWriter_fourcc(*'MP4V'), 15, (image.shape[1],image.shape[0]))\n",
        "for i in range(len(result_lidar_video)):\n",
        "    out.write(cv2.cvtColor(result_lidar_video[i], cv2.COLOR_BGR2RGB))\n",
        "out.release()"
      ]
    },
    {
      "attachments": {},
      "cell_type": "markdown",
      "metadata": {},
      "source": [
        "## cluster_dbscan"
      ]
    },
    {
      "cell_type": "code",
      "execution_count": null,
      "metadata": {},
      "outputs": [],
      "source": [
        "def remove_large_clusters(point_cloud, labels, cluster_size_threshold):\n",
        "       \n",
        "    # Count points in each cluster\n",
        "    unique, counts = np.unique(labels, return_counts=True)\n",
        "    cluster_sizes = dict(zip(unique, counts))\n",
        "    \n",
        "    # Filter out clusters with size greater than threshold\n",
        "    large_clusters = [cluster_idx for cluster_idx in cluster_sizes if cluster_sizes[cluster_idx] > cluster_size_threshold]\n",
        "    filtered_labels = np.where(np.isin(labels, large_clusters), -1, labels)\n",
        "    \n",
        "    # Remove points in filtered clusters\n",
        "    filtered_point_cloud = point_cloud.select_by_index(np.where(filtered_labels > -1)[0])\n",
        "    \n",
        "    return filtered_point_cloud\n",
        "\n",
        "import pandas as pd\n",
        "import time\n",
        "\n",
        "lidar_images = sorted(glob.glob(\"data\\\\data_train\\\\img\\\\*.png\"))\n",
        "lidar_points = sorted(glob.glob(\"data\\\\data_train\\\\velodyne_pcd\\\\*.pcd\"))\n",
        "calib_files = sorted(glob.glob(\"data\\\\calib\\\\*.txt\"))\n",
        "\n",
        "lidar2cam_video = LiDAR2Camera(calib_files[0])\n",
        "\n",
        "result_lidar_video = []\n",
        "\n",
        "for idx in range(len(lidar_images)):\n",
        "    # if idx > 130:\n",
        "    img = cv2.cvtColor(cv2.imread(lidar_images[idx]), cv2.COLOR_BGR2RGB)\n",
        "    point_cloud = o3d.io.read_point_cloud(lidar_points[idx])\n",
        "\n",
        "    # down sampling\n",
        "    downpcd = point_cloud.voxel_down_sample(voxel_size=0.05)\n",
        "\n",
        "    # remove ground\n",
        "    _, inliers = downpcd.segment_plane(distance_threshold = 0.23, ransac_n = 8, num_iterations = 200)\n",
        "\n",
        "    # delete ground\n",
        "    downpcd.points = o3d.utility.Vector3dVector(np.delete(np.asarray(downpcd.points), inliers, axis=0))\n",
        "\n",
        "    # dbscan\n",
        "    labels = np.array(downpcd.cluster_dbscan(eps=0.28, min_points=10, print_progress=False))\n",
        "    max_label = labels.max()\n",
        "    print(f\"point cloud has {max_label + 1} clusters\")\n",
        "    \n",
        "    downpcd = remove_large_clusters(downpcd, labels, 4000)\n",
        "    downpcd = downpcd.select_by_index(np.where(labels >= 0)[0])\n",
        "\n",
        "    final_points = np.asarray(downpcd.points)\n",
        "    final_aa = lidar2cam_video.pipeline_lidar(img, final_points)\n",
        "    result_lidar_video.append(final_aa)\n",
        "    cv2.imshow(\"final_aa\", final_aa)\n",
        "    if cv2.waitKey(0) == ord('q'):\n",
        "        break\n",
        "cv2.destroyAllWindows()\n"
      ]
    },
    {
      "cell_type": "code",
      "execution_count": null,
      "metadata": {},
      "outputs": [],
      "source": [
        "image = cv2.imread(\"data/img/000000.png\")\n",
        "\n",
        "out = cv2.VideoWriter('output/out_ground_remove_and_downsample.mp4',cv2.VideoWriter_fourcc(*'MP4V'), 15, (image.shape[1],image.shape[0]))\n",
        "for i in range(len(result_lidar_video)):\n",
        "    out.write(cv2.cvtColor(result_lidar_video[i], cv2.COLOR_BGR2RGB))\n",
        "out.release()"
      ]
    },
    {
      "cell_type": "code",
      "execution_count": null,
      "metadata": {},
      "outputs": [],
      "source": []
    },
    {
      "attachments": {},
      "cell_type": "markdown",
      "metadata": {},
      "source": [
        "## DBSCAN clustering video"
      ]
    },
    {
      "cell_type": "code",
      "execution_count": 6,
      "metadata": {},
      "outputs": [],
      "source": [
        "import numpy as np\n",
        "import cv2\n",
        "import matplotlib.pyplot as plt\n",
        "import matplotlib.image as mpimg\n",
        "from IPython.display import Image\n",
        "import glob\n",
        "import open3d as o3d\n",
        "from open3d.open3d.geometry import voxel_down_sample\n",
        "\n",
        "class LiDAR2Camera(object):\n",
        "    def __init__(self, calib_file):\n",
        "        calibs = self.read_calib_file(calib_file)\n",
        "        P = calibs[\"P2\"]\n",
        "        self.P = np.reshape(P, [3, 4])\n",
        "        V2C = calibs[\"Tr_velo_cam\"]\n",
        "        self.V2C = np.reshape(V2C, [3, 4])\n",
        "        R0 = calibs[\"R_rect\"]\n",
        "        self.R0 = np.reshape(R0, [3, 3])\n",
        "\n",
        "    def read_calib_file(self, filepath):\n",
        "        data = {}\n",
        "        with open(filepath, \"r\") as f:\n",
        "            for line in f.readlines():\n",
        "                line = line.rstrip()\n",
        "                if len(line) == 0:\n",
        "                    continue\n",
        "                key, value = line.split(\":\", 1)\n",
        "                try:\n",
        "                    data[key] = np.array([float(x) for x in value.split()])\n",
        "                except ValueError:\n",
        "                    pass\n",
        "        return data\n",
        "    \n",
        "    def cart2hom(self, pts_3d):\n",
        "        n = pts_3d.shape[0]\n",
        "        pts_3d_hom = np.hstack((pts_3d, np.ones((n, 1))))\n",
        "        return pts_3d_hom\n",
        "    \n",
        "    def project_velo_to_image(self, pts_3d_velo):\n",
        "        R0_homo = np.vstack([self.R0, [0, 0, 0]])\n",
        "        R0_homo_2 = np.column_stack([R0_homo, [0, 0, 0, 1]])\n",
        "        p_r0 = np.dot(self.P, R0_homo_2) #PxR0\n",
        "        p_r0_rt =  np.dot(p_r0, np.vstack((self.V2C, [0, 0, 0, 1]))) #PxROxRT\n",
        "        pts_3d_homo = np.column_stack([pts_3d_velo, np.ones((pts_3d_velo.shape[0],1))])\n",
        "        p_r0_rt_x = np.dot(p_r0_rt, np.transpose(pts_3d_homo))#PxROxRTxX\n",
        "        pts_2d = np.transpose(p_r0_rt_x)\n",
        "        \n",
        "        pts_2d[:, 0] /= pts_2d[:, 2]\n",
        "        pts_2d[:, 1] /= pts_2d[:, 2]\n",
        "        return pts_2d[:, 0:2]\n",
        "        \n",
        "    def get_lidar_in_image_fov(self,pc_velo, xmin, ymin, xmax, ymax, return_more=False, clip_distance=2.0):\n",
        "        pts_2d = self.project_velo_to_image(pc_velo)\n",
        "        fov_inds = (\n",
        "            (pts_2d[:, 0] < xmax)\n",
        "            & (pts_2d[:, 0] >= xmin)\n",
        "            & (pts_2d[:, 1] < ymax)\n",
        "            & (pts_2d[:, 1] >= ymin)\n",
        "        )\n",
        "        fov_inds = fov_inds & (pc_velo[:, 0] > clip_distance) # We don't want things that are closer to the clip distance (2m)\n",
        "        imgfov_pc_velo = pc_velo[fov_inds, :]\n",
        "        if return_more:\n",
        "            return imgfov_pc_velo, pts_2d, fov_inds\n",
        "        else:\n",
        "            return imgfov_pc_velo\n",
        "        \n",
        "    def show_lidar_on_image(self, pc_velo, img, debug=\"False\"):\n",
        "        imgfov_pc_velo, pts_2d, fov_inds = self.get_lidar_in_image_fov(\n",
        "            pc_velo, 0, 0, img.shape[1], img.shape[0], True\n",
        "        )\n",
        "        self.imgfov_pts_2d = pts_2d[fov_inds, :]\n",
        "\n",
        "        cmap = plt.cm.get_cmap(\"hsv\", 256)\n",
        "        cmap = np.array([cmap(i) for i in range(256)])[:, :3] * 255\n",
        "        self.imgfov_pc_velo = imgfov_pc_velo\n",
        "        \n",
        "        for i in range(self.imgfov_pts_2d.shape[0]):\n",
        "            depth = imgfov_pc_velo[i,0]\n",
        "            color = cmap[int(510.0 / depth), :]\n",
        "            cv2.circle(\n",
        "                img,(int(np.round(self.imgfov_pts_2d[i, 0])), int(np.round(self.imgfov_pts_2d[i, 1]))),2,\n",
        "                color=tuple(color),\n",
        "                thickness=-1,\n",
        "            )\n",
        "        return img\n",
        "\n",
        "    def pipeline_lidar (self, image, point_cloud):\n",
        "        img = image.copy()\n",
        "        lidar_img = self.show_lidar_on_image(point_cloud[:,:3], image)\n",
        "        return lidar_img\n",
        "    \n",
        "def remove_large_clusters(point_cloud, labels, cluster_size_threshold):\n",
        "       \n",
        "    # Count points in each cluster\n",
        "    unique, counts = np.unique(labels, return_counts=True)\n",
        "    cluster_sizes = dict(zip(unique, counts))\n",
        "    \n",
        "    # Filter out clusters with size greater than threshold\n",
        "    large_clusters = [cluster_idx for cluster_idx in cluster_sizes if cluster_sizes[cluster_idx] > cluster_size_threshold]\n",
        "    filtered_labels = np.where(np.isin(labels, large_clusters), -1, labels)\n",
        "    \n",
        "    # Remove points in filtered clusters\n",
        "    point_cloud = point_cloud.select_by_index(np.where(filtered_labels > -1)[0])\n",
        "    \n",
        "    return point_cloud\n",
        "\n",
        "\n",
        "lidar_images = sorted(glob.glob(\"data\\\\data_train\\\\img\\\\*.png\"))\n",
        "lidar_points = sorted(glob.glob(\"data\\\\data_train\\\\velodyne_pcd\\\\*.pcd\"))\n",
        "calib_files = sorted(glob.glob(\"data\\\\calib\\\\*.txt\"))\n",
        "\n",
        "lidar2cam_video = LiDAR2Camera(calib_files[0])\n",
        "\n",
        "\n",
        "img = cv2.cvtColor(cv2.imread(lidar_images[0]), cv2.COLOR_BGR2RGB)\n",
        "point_cloud = o3d.io.read_point_cloud(lidar_points[0])\n",
        "\n",
        "# # down sampling\n",
        "# point_cloud = point_cloud.voxel_down_sample(voxel_size=0.01)\n",
        "\n",
        "# # remove ground\n",
        "# _, inliers = point_cloud.segment_plane(distance_threshold = 0.23, ransac_n = 8, num_iterations = 200)\n",
        "\n",
        "# # delete ground\n",
        "# point_cloud.points = o3d.utility.Vector3dVector(np.delete(np.asarray(point_cloud.points), inliers, axis=0))\n",
        "\n",
        "# # dbscan\n",
        "# labels = np.array(point_cloud.cluster_dbscan(eps=0.25, min_points=10, print_progress=True))\n",
        "\n",
        "# point_cloud = remove_large_clusters(point_cloud, labels, 1000)\n",
        "# max_label = labels.max()\n",
        "\n",
        "# # colors = plt.get_cmap(\"tab20\")(labels / (max_label if max_label > 0 else 1))\n",
        "# # colors[labels < 0] = 0\n",
        "# # downpcd.colors = o3d.utility.Vector3dVector(colors[:, :3])\n",
        "# point_cloud = point_cloud.select_by_index(np.where(labels >= 0)[0])\n",
        "\n",
        "final_points = np.asarray(point_cloud.points)\n",
        "final_aa = lidar2cam_video.pipeline_lidar(img, final_points)\n",
        "cv2.imshow(\"final_aa\", final_aa)\n",
        "cv2.waitKey(0)\n",
        "cv2.destroyAllWindows()\n"
      ]
    },
    {
      "cell_type": "code",
      "execution_count": null,
      "metadata": {},
      "outputs": [],
      "source": [
        "o3d.visualization.draw_geometries([point_cloud])"
      ]
    },
    {
      "cell_type": "code",
      "execution_count": 2,
      "metadata": {},
      "outputs": [],
      "source": [
        "cv2.imshow(\"final_aa\", final_aa)\n",
        "cv2.imwrite(\"cluster_off.png\", final_aa)\n",
        "cv2.waitKey(0)\n",
        "cv2.destroyAllWindows()"
      ]
    },
    {
      "cell_type": "code",
      "execution_count": null,
      "metadata": {},
      "outputs": [],
      "source": []
    },
    {
      "cell_type": "code",
      "execution_count": null,
      "metadata": {},
      "outputs": [],
      "source": []
    },
    {
      "cell_type": "code",
      "execution_count": null,
      "metadata": {},
      "outputs": [],
      "source": [
        "max_label = labels.max()\n",
        "\n",
        "# colors = plt.get_cmap(\"tab20\")(labels / (max_label if max_label > 0 else 1))\n",
        "# colors[labels < 0] = 0\n",
        "# downpcd.colors = o3d.utility.Vector3dVector(colors[:, :3])\n",
        "pcd = downpcd.select_by_index(np.where(labels >= 0)[0])\n",
        "time.sleep(0.1)\n",
        "\n",
        "final_points = np.asarray(pcd.points)\n",
        "final_aa = lidar2cam_video.pipeline_lidar(img, final_points)"
      ]
    },
    {
      "cell_type": "code",
      "execution_count": null,
      "metadata": {},
      "outputs": [],
      "source": [
        "cv2.imshow(\"final_aa\", final_aa)\n",
        "cv2.waitKey(0)\n",
        "cv2.destroyAllWindows()"
      ]
    },
    {
      "cell_type": "code",
      "execution_count": null,
      "metadata": {},
      "outputs": [],
      "source": []
    },
    {
      "cell_type": "code",
      "execution_count": null,
      "metadata": {},
      "outputs": [],
      "source": []
    },
    {
      "cell_type": "code",
      "execution_count": null,
      "metadata": {},
      "outputs": [],
      "source": [
        "# remove ground\n",
        "_, inliers = downpcd.segment_plane(distance_threshold = 0.23, ransac_n = 8, num_iterations = 500)\n",
        "downpcd.points = o3d.utility.Vector3dVector(np.delete(np.asarray(downpcd.points), inliers, axis=0)) # delete ground"
      ]
    },
    {
      "cell_type": "code",
      "execution_count": null,
      "metadata": {},
      "outputs": [],
      "source": [
        "o3d.visualization.draw_geometries([downpcd])"
      ]
    },
    {
      "cell_type": "code",
      "execution_count": null,
      "metadata": {},
      "outputs": [],
      "source": [
        "# dbscan\n",
        "labels = np.array(downpcd.cluster_dbscan(eps=0.2, min_points=20, print_progress=True))\n",
        "max_label = labels.max()\n",
        "print(f\"point cloud has {max_label + 1} clusters\")"
      ]
    },
    {
      "cell_type": "code",
      "execution_count": null,
      "metadata": {},
      "outputs": [],
      "source": [
        "colors = plt.get_cmap(\"tab20\")(labels / (max_label if max_label > 0 else 1))\n",
        "colors[labels < 0] = 0\n",
        "downpcd.colors = o3d.utility.Vector3dVector(colors[:, :3])\n",
        "pcd = downpcd.select_by_index(np.where(labels >= 0)[0])"
      ]
    },
    {
      "cell_type": "code",
      "execution_count": null,
      "metadata": {},
      "outputs": [],
      "source": [
        "# downpcd.colors = o3d.utility.Vector3dVector(colors[:, :3])\n",
        "# # pcd.colors = o3d.utility.Vector3dVector(colors[:, :3])\n",
        "\n",
        "o3d.visualization.draw_geometries([pcd])\n",
        "# o3d.visualization.draw_geometries([downpcd])"
      ]
    },
    {
      "cell_type": "code",
      "execution_count": null,
      "metadata": {},
      "outputs": [],
      "source": [
        "img = cv2.cvtColor(cv2.imread(lidar_images[0]), cv2.COLOR_BGR2RGB)\n",
        "point_cloud = np.asarray(o3d.io.read_point_cloud(lidar_points[0]).points)\n",
        "final_points = np.asarray(pcd.points)\n",
        "final_aa = lidar2cam_video.pipeline_lidar(img, final_points)\n",
        "cv2.imshow(\"final_aa\", final_aa)\n",
        "cv2.waitKey(0)\n",
        "cv2.destroyAllWindows()"
      ]
    },
    {
      "cell_type": "code",
      "execution_count": null,
      "metadata": {},
      "outputs": [],
      "source": [
        "# Bounding Boxes\n",
        "bounding_boxes = []\n",
        "inds =  pd.Series(range(len(labels))).groupby(labels, sort = False).apply(list).tolist()\n",
        "\n",
        "for i in range(len(inds)):\n",
        "    cluster = pcd.select_by_index(inds[i])\n",
        "    bb = cluster.get_axis_aligned_bounding_box()\n",
        "    bb.color = (1,0,0)\n",
        "    bounding_boxes.append(bb)\n",
        "\n",
        "visuals = []\n",
        "visuals.append(pcd)\n",
        "visuals.extend(bounding_boxes)\n",
        "o3d.visualization.draw_geometries(visuals)"
      ]
    },
    {
      "cell_type": "code",
      "execution_count": null,
      "metadata": {},
      "outputs": [],
      "source": [
        "\n",
        "\n",
        "\n",
        "# downpcd_points = downpcd.points\n",
        "# clustered_points = downpcd_points[cluster_indices, :]\n",
        "downpcd = np.asarray(downpcd.points)\n",
        "clustered_points = downpcd[cluster_indices, :]\n",
        "\n",
        "pcd_final = o3d.geometry.PointCloud()\n",
        "pcd_final.points = o3d.utility.Vector3dVector(clustered_points)\n",
        "\n",
        "max_label = labels.max()\n",
        "print(f\"point cloud has {max_label + 1} clusters\")\n",
        "\n",
        "colors = plt.get_cmap(\"tab20\")(labels / (max_label if max_label > 0 else 1))\n",
        "colors[labels < 0] = 0\n",
        "point_cloud.colors = o3d.utility.Vector3dVector(colors[:, :3])\n",
        "\n",
        "pcd_final.colors = o3d.utility.Vector3dVector(colors[:, :3])\n",
        "\n",
        "\n",
        "# o3d.visualization.draw_geometries([point_cloud],\n",
        "#                                   zoom=0.455,\n",
        "#                                   front=[-0.4999, -0.1659, -0.8499],\n",
        "#                                   lookat=[2.1813, 2.0619, 2.0999],\n",
        "#                                   up=[0.1204, -0.9852, 0.1215])\n",
        "\n",
        "# o3d.visualization.draw_geometries([point_cloud])\n",
        "\n",
        "# Bounding Boxes\n",
        "bounding_boxes = []\n",
        "inds =  pd.Series(range(len(labels))).groupby(labels, sort = False).apply(list).tolist()\n",
        "\n",
        "for i in range(len(inds)):\n",
        "    cluster = pcd_final.select_by_index(inds[i])\n",
        "    bb = cluster.get_axis_aligned_bounding_box()\n",
        "    bb.color = (0,1,0)\n",
        "    bounding_boxes.append(bb)\n",
        "\n",
        "visuals = []\n",
        "visuals.append(pcd_final)\n",
        "visuals.extend(bounding_boxes)\n",
        "o3d.visualization.draw_geometries(visuals)\n",
        "\n",
        "img_final = lidar2cam_video.pipeline_lidar(img, clustered_points)\n",
        "\n",
        "cv2.imshow(\"img_final\", img_final)\n",
        "cv2.waitKey(0)\n",
        "cv2.destroyAllWindows()"
      ]
    },
    {
      "cell_type": "code",
      "execution_count": null,
      "metadata": {},
      "outputs": [],
      "source": [
        "cluster_indices"
      ]
    },
    {
      "cell_type": "code",
      "execution_count": null,
      "metadata": {},
      "outputs": [],
      "source": [
        "len(labels)"
      ]
    },
    {
      "cell_type": "code",
      "execution_count": null,
      "metadata": {},
      "outputs": [],
      "source": [
        "cluster_indices"
      ]
    }
  ],
  "metadata": {
    "colab": {
      "collapsed_sections": [
        "1rbhQKptg-uK",
        "WmYX4Iex6JzH"
      ],
      "name": "Copy of Visual Fusion Early.ipynb",
      "private_outputs": true,
      "provenance": []
    },
    "kernelspec": {
      "display_name": "Python 3",
      "name": "python3"
    },
    "language_info": {
      "codemirror_mode": {
        "name": "ipython",
        "version": 3
      },
      "file_extension": ".py",
      "mimetype": "text/x-python",
      "name": "python",
      "nbconvert_exporter": "python",
      "pygments_lexer": "ipython3",
      "version": "3.7.16"
    }
  },
  "nbformat": 4,
  "nbformat_minor": 0
}
